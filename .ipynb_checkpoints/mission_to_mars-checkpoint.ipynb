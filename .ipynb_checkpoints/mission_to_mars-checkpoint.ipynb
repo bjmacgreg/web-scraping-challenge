{
 "cells": [
  {
   "cell_type": "code",
   "execution_count": null,
   "metadata": {},
   "outputs": [],
   "source": [
    "!which chromedriver"
   ]
  },
  {
   "cell_type": "code",
   "execution_count": 1,
   "metadata": {},
   "outputs": [],
   "source": [
    "import pymongo\n",
    "from bs4 import BeautifulSoup as bs\n",
    "import os\n",
    "import requests\n",
    "import pandas as pd\n",
    "from splinter import Browser\n",
    "from splinter.exceptions import ElementDoesNotExist\n",
    "import urllib.request\n",
    "import urllib.parse\n",
    "import re"
   ]
  },
  {
   "cell_type": "code",
   "execution_count": null,
   "metadata": {},
   "outputs": [],
   "source": [
    "def init_browser():\n",
    "    executable_path = {\"executable_path\": \"/usr/local/bin/chromedriver\"}\n",
    "    return Browser(\"chrome\", usr/local/bin/chromedriver, headless=False)"
   ]
  },
  {
   "cell_type": "markdown",
   "metadata": {},
   "source": [
    "### NASA Mars News"
   ]
  },
  {
   "cell_type": "code",
   "execution_count": null,
   "metadata": {},
   "outputs": [],
   "source": [
    "# Initialize PyMongo to work with MongoDBs\n",
    "conn = 'mongodb://localhost:27017'\n",
    "client = pymongo.MongoClient(conn)"
   ]
  },
  {
   "cell_type": "code",
   "execution_count": null,
   "metadata": {},
   "outputs": [],
   "source": [
    "# Define database and collection\n",
    "db = client.NASA_Mars_news_db\n",
    "collection = db.items"
   ]
  },
  {
   "cell_type": "code",
   "execution_count": null,
   "metadata": {},
   "outputs": [],
   "source": [
    "# URL of page to be scraped\n",
    "url = 'https://mars.nasa.gov/news/'\n",
    "\n",
    "# Retrieve page with the requests module\n",
    "response = requests.get(url)\n",
    "\n",
    "# Create BeautifulSoup object; parse with 'lxml'\n",
    "soup = bs(response.text, 'lxml')\n",
    "print(soup.prettify)"
   ]
  },
  {
   "cell_type": "code",
   "execution_count": null,
   "metadata": {},
   "outputs": [],
   "source": [
    "# Examine the results, then determine element that contains sought info\n",
    "# results are returned as an iterable list\n",
    "\n",
    "results = soup.find_all(class_='slide')\n",
    "results\n"
   ]
  },
  {
   "cell_type": "code",
   "execution_count": null,
   "metadata": {},
   "outputs": [],
   "source": [
    "# Loop through returned results\n",
    "\n",
    "for result in results:\n",
    "    try:\n",
    "        news_title = result.find('div', class_=\"content_title\").get_text()\n",
    "        news_p = result.find('div', class_=\"rollover_description_inner\").get_text()\n",
    "        if (news_title and news_p):\n",
    "            print ('-------------')\n",
    "            print (news_title)\n",
    "            print (news_p)\n",
    "        # Dictionary to be inserted as a MongoDB document\n",
    "            post = {\n",
    "                'news_title': news_title.strip(),\n",
    "                'news_p': news_p.strip()\n",
    "            }\n",
    "            collection.insert_one(post)\n",
    "            print(post)\n",
    "    except Exception as e:\n",
    "        print(e)\n",
    "        \n",
    "print(collection)"
   ]
  },
  {
   "cell_type": "code",
   "execution_count": null,
   "metadata": {},
   "outputs": [],
   "source": [
    "NASA_news = db.items.find()\n",
    "\n",
    "for article in NASA_news:\n",
    "    print(article)"
   ]
  },
  {
   "cell_type": "markdown",
   "metadata": {},
   "source": [
    "### JPL Mars Space Images - Featured Image"
   ]
  },
  {
   "cell_type": "code",
   "execution_count": null,
   "metadata": {},
   "outputs": [],
   "source": [
    "# Thanks to GitHub for the fancybox help, I was really stuck. Didn't realize \"fancybox\" could be a class. \n",
    "#https://github.com/ZL14E161110/HW13---Web-Scraping-and-Document-Databases\n",
    "#Didn't look at the rest of it, although I'm sure it's brilliant. \n",
    "\n",
    "executable_path = {'executable_path': '/usr/local/bin/chromedriver'}\n",
    "browser = Browser('chrome', **executable_path, headless=False)\n",
    "url = 'https://www.jpl.nasa.gov/spaceimages/?search=&category=Mars'\n",
    "browser.visit(url)\n",
    "html = browser.html\n",
    "soup = bs(html, 'lxml')\n",
    "\n",
    "#Assuming the latest Mars image will always be the one in the first position of the grid...\n",
    "#Note 0 is the overall featured image, which is not necessarily of Mars.\n",
    "\n",
    "partial_address = soup.find_all('a', class_='fancybox')[1].get('data-fancybox-href').strip()\n",
    "base = \"https://www.jpl.nasa.gov\"\n",
    "featured_image_url = urllib.parse.urljoin(base, partial_address)\n",
    "featured_image_url"
   ]
  },
  {
   "cell_type": "markdown",
   "metadata": {},
   "source": [
    "### Mars Facts"
   ]
  },
  {
   "cell_type": "code",
   "execution_count": null,
   "metadata": {},
   "outputs": [],
   "source": [
    "url = 'https://space-facts.com/mars/'"
   ]
  },
  {
   "cell_type": "code",
   "execution_count": null,
   "metadata": {},
   "outputs": [],
   "source": [
    "tables = pd.read_html(url)\n",
    "type(tables)"
   ]
  },
  {
   "cell_type": "code",
   "execution_count": null,
   "metadata": {},
   "outputs": [],
   "source": [
    "tables[0]"
   ]
  },
  {
   "cell_type": "code",
   "execution_count": null,
   "metadata": {},
   "outputs": [],
   "source": [
    "mars_facts_df = tables[0]\n",
    "mars_facts_df.set_index([0], inplace=True)\n",
    "mars_facts_df"
   ]
  },
  {
   "cell_type": "code",
   "execution_count": null,
   "metadata": {},
   "outputs": [],
   "source": [
    "mars_facts_df.rename(columns=mars_facts_df.iloc[0]).drop(mars_facts_df.index[0])\n",
    "mars_facts_df"
   ]
  },
  {
   "cell_type": "code",
   "execution_count": null,
   "metadata": {},
   "outputs": [],
   "source": [
    "mars_facts_html_table = mars_facts_df.to_html()\n",
    "mars_facts_html_table = mars_facts_html_table.replace('\\n', '')\n",
    "mars_facts_html_table\n",
    "print(mars_facts_html_table)"
   ]
  },
  {
   "cell_type": "code",
   "execution_count": null,
   "metadata": {},
   "outputs": [],
   "source": [
    "###Make sure extra header row is gone###"
   ]
  },
  {
   "cell_type": "markdown",
   "metadata": {},
   "source": [
    "### Mars Hemispheres\n",
    "\n",
    "### This must be run through starting from the top - rerunning steps risks getting you repeated urls."
   ]
  },
  {
   "cell_type": "code",
   "execution_count": 2,
   "metadata": {},
   "outputs": [],
   "source": [
    "#navigate to starting page\n",
    "executable_path = {\"executable_path\": \"/usr/local/bin/chromedriver\"}\n",
    "browser = Browser(\"chrome\", **executable_path, headless=False)\n",
    "url = \"https://astrogeology.usgs.gov/search/results?q=hemisphere+enhanced&k1=target&v1=Mars\"\n",
    "browser.visit(url)"
   ]
  },
  {
   "cell_type": "code",
   "execution_count": 3,
   "metadata": {},
   "outputs": [],
   "source": [
    "#Make soup\n",
    "# Retrieve page with the requests module\n",
    "response = requests.get(url)\n",
    "\n",
    "# Create BeautifulSoup object; parse with 'lxml'\n",
    "soup = bs(response.text, 'lxml')\n",
    "#print(soup.prettify)"
   ]
  },
  {
   "cell_type": "code",
   "execution_count": 14,
   "metadata": {},
   "outputs": [],
   "source": [
    "#for a in soup.select('a:contains(Original)')]\n",
    "#for link in soup.find_all('a[href*=search]'):    \n",
    "#    print(soup.select(\"a[href*=search]\"))\n",
    "\n",
    "\n",
    "#Gets list from page including desired ones:\n",
    "for link in soup.find_all('a'):\n",
    "    print(link.get('href'))\n"
   ]
  },
  {
   "cell_type": "code",
   "execution_count": null,
   "metadata": {},
   "outputs": [],
   "source": [
    "#Collect thumbnails from soup (delicious)\n",
    "\n",
    "thumbnails = soup.find_all(class_='thumb')\n",
    "thumbnails\n",
    "#search_hrefs = soup.find_all(a'href')\n",
    "#search_hrefs = soup.find_all(class_='item')\n",
    "#search_hrefs\n",
    "\n",
    "#partial_addresses = soup.find('a').get('href')\n",
    "#for partial_address in partial_addresses:\n",
    "    \n",
    "\n",
    "#base = \"https://www.jpl.nasa.gov\"\n",
    "#possible_url = urllib.parse.urljoin(base, partial_addresses)\n",
    "#possible_url"
   ]
  },
  {
   "cell_type": "code",
   "execution_count": null,
   "metadata": {},
   "outputs": [],
   "source": [
    "#Find titles and links for full-scale images\n",
    "title_list = []\n",
    "img_url_list = []\n",
    "\n",
    "for thumbnail in thumbnails:    \n",
    "    print(thumbnail)\n",
    "    browser.click_link_by_partial_text('Hemisphere Enhanced')\n",
    "    xpath = \"//a[@class='open-toggle']\"\n",
    "    switch = browser.find_by_xpath(xpath)\n",
    "    switch.click()\n",
    "    html = browser.html\n",
    "    soup = bs(html, 'lxml')\n",
    "    imgs = soup.find(class_='downloads')\n",
    "    #imgs    \n",
    "    html = browser.html\n",
    "    soup = bs(html, 'lxml')\n",
    "    title = soup.find(class_ = 'title').get_text()\n",
    "    img_url = [a['href'] for a in soup.select('a:contains(Original)')]\n",
    "    #if img_url not in img_url_list:\n",
    "    title_list.append(title)\n",
    "    img_url_list.append(*img_url)\n",
    "    print(title, *img_url)\n",
    "    #browser.visit(url)    \n",
    "\n",
    "hemisphere_image_urls = zip(title_list, img_url_list)\n"
   ]
  },
  {
   "cell_type": "markdown",
   "metadata": {},
   "source": [
    "## Step 2 - MongoDB and Flask Application\n",
    "\n",
    "Use MongoDB with Flask templating to create a new HTML page that displays all of the information that was scraped from the URLs above.\n",
    "\n",
    "* Start by converting your Jupyter notebook into a Python script called `scrape_mars.py` with a function called `scrape` that will execute all of your scraping code from above and return one Python dictionary containing all of the scraped data.\n",
    "\n",
    "* Next, create a route called `/scrape` that will call your `scrape_mars.scrape` function. Note that you'll have to import `scrape_mars.py`. \n",
    "\n",
    "  * Store the dictionary that gets returned to your MongoDB.\n",
    "\n",
    "* Create an index route `/` that will query your Mongo database and pass the Mars data into an HTML template to be displayed. \n",
    "\n",
    "* Create a template HTML file called `index.html` that will take the dictionary of Mars data and display its values in the appropriate HTML elements. Use the following as a guide for what the final product should look like, but feel free to create your own design.\n",
    "\n",
    "![final_app_part1.png](Images/final_app_part1.png)\n",
    "![final_app_part2.png](Images/final_app_part2.png)"
   ]
  }
 ],
 "metadata": {
  "kernelspec": {
   "display_name": "Python 3",
   "language": "python",
   "name": "python3"
  },
  "language_info": {
   "codemirror_mode": {
    "name": "ipython",
    "version": 3
   },
   "file_extension": ".py",
   "mimetype": "text/x-python",
   "name": "python",
   "nbconvert_exporter": "python",
   "pygments_lexer": "ipython3",
   "version": "3.6.10"
  }
 },
 "nbformat": 4,
 "nbformat_minor": 4
}
