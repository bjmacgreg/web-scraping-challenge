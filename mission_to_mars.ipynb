{
 "cells": [
  {
   "cell_type": "code",
   "execution_count": 1,
   "metadata": {},
   "outputs": [
    {
     "name": "stdout",
     "output_type": "stream",
     "text": [
      "/usr/local/bin/chromedriver\r\n"
     ]
    }
   ],
   "source": [
    "!which chromedriver"
   ]
  },
  {
   "cell_type": "code",
   "execution_count": 2,
   "metadata": {},
   "outputs": [],
   "source": [
    "#import pymongo\n",
    "from bs4 import BeautifulSoup as bs\n",
    "import os\n",
    "import requests\n",
    "import shutil\n",
    "import pandas as pd\n",
    "from splinter import Browser\n",
    "from splinter.exceptions import ElementDoesNotExist\n",
    "import urllib.request\n",
    "import urllib.parse\n",
    "import re\n",
    "\n",
    "#Dictionary to collect data\n",
    "mars = {}"
   ]
  },
  {
   "cell_type": "code",
   "execution_count": 3,
   "metadata": {},
   "outputs": [],
   "source": [
    "def init_browser():\n",
    "    executable_path = {\"executable_path\": \"/usr/local/bin/chromedriver\"}\n",
    "    return Browser(\"chrome\", **executable_path, headless=False)"
   ]
  },
  {
   "cell_type": "markdown",
   "metadata": {},
   "source": [
    "### NASA Mars News"
   ]
  },
  {
   "cell_type": "code",
   "execution_count": 4,
   "metadata": {},
   "outputs": [],
   "source": [
    "browser = init_browser()\n",
    "\n",
    "# URL of page to be scraped\n",
    "url = 'https://mars.nasa.gov/news/'\n",
    "\n",
    "# Retrieve page with the requests module\n",
    "response = requests.get(url)\n",
    "\n",
    "# Create BeautifulSoup object; parse with 'lxml'\n",
    "soup = bs(response.text, 'lxml')\n",
    "    #print(soup.prettify)"
   ]
  },
  {
   "cell_type": "code",
   "execution_count": 5,
   "metadata": {},
   "outputs": [
    {
     "data": {
      "text/plain": [
       "'Did you know NASA\\'s next Mars rover has a nearly identical sibling on Earth for testing? Even better, it\\'s about to roll for the first time through a replica Martian landscape. As NASA\\'s Mars rover Perseverance hurtles through space toward the Red Planet, the six-wheeler\\'s twin is ready to roll here on Earth. A full-scale engineering version of the Mars 2020 Perseverance rover – outfitted with wheels, cameras, and powerful computers to help it drive autonomously – has just moved into its garage home at NASA\\'s Jet Propulsion Laboratory in Southern California. This rover model passed its first driving test in a relatively tame warehouselike assembly room at JPL on Sept. 1. Engineers expect to take it out next week into the Mars Yard, where a field of red dirt studded with rocks and other obstacles simulates the Red Planet\\'s surface. Download video › \"Perseverance\\'s mobility team can\\'t wait to finally drive our test rover outside,\" said Anais Zarifian, the mobility test bed engineer at JPL. \"This is the test robot that comes closest to simulating the actual mission operations Perseverance will experience on Mars – with wheels, eyes, and brains all together – so this rover is going to be especially fun to work with.\" Wait, Why Does Perseverance Need a Twin? Perseverance isn\\'t flying to Mars with a mechanic. To avoid as many unexpected issues as possible after the rover lands on Feb. 18, 2021, the team needs this Earth-bound vehicle system test bed (VSTB) rover to gauge how hardware and software will perform before they transmit commands up to Perseverance on Mars. This rover model will be particularly useful for completing a full set of software tests so the team can send up patches while Perseverance is en route to Mars or after it has landed. Perseverance Test Rover\\'s First Drive: Engineers test drive the Earth-bound twin of NASA\\'s Perseverance Mars rover for the first time in a warehouselike assembly room at the agency\\'s Jet Propulsion Laboratory in Southern California. Full image and caption › And just like Perseverance has a fitting name – one that captures the hard work of getting the rover on its way to Mars amid a pandemic – its twin has a name, too: OPTIMISM. While OPTIMISM is an acronym for Operational Perseverance Twin for Integration of Mechanisms and Instruments Sent to Mars, the name is also a nod to the mantra of the team that spent two years planning and assembling it. \"The Mars 2020 Perseverance test bed team\\'s motto is \\'No optimism allowed,\\'\" said Matt Stumbo, the lead for the VSTB rover on the test bed team. \"So we named the test rover OPTIMISM to remind us of the work we have to do to fully test the system. Our job is to find problems, not just hope activities will work. As we work through the issues with OPTIMISM, we gain confidence in Perseverance\\'s capabilities and confidence in our ability to operate on Mars.\" Almost Identical OPTIMISM is nearly identical to Perseverance: It is the same size, has the same mobility system and top driving speed (0.094 mph, or 0.15 kph), and features the same distinctive \"head,\" known as the remote sensing mast. After a second phase of building at the beginning of the new year, it will have the full suite of science instruments, cameras, and computer \"brains\" Perseverance has, plus its unique system for collecting rock and soil samples. But since OPTIMISM lives at JPL, it also features some Earthly differences. For one thing, while Perseverance gets its power from a multi-mission radioisotope thermoelectric generator (a kind of nuclear battery that has reliably powered space missions since the 1960s), OPTIMISM features an umbilical cord that can be plugged in for electrical power. That cord also provides an ethernet connection, allowing the mission team to send commands to and receive engineering data back from OPTIMISM without installing the radios Perseverance uses for communication. And whereas Perseverance comes with a heating system to keep it warm in the frigid environment of Mars, OPTIMISM relies on a cooling system for operating in hot Southern California summers. Welcome to the Family OPTIMISM isn\\'t JPL\\'s only VSTB rover. NASA’s Curiosity Mars rover, which has been exploring the Red Planet since it landed in 2012, has a twin named MAGGIE (Mars Automated Giant Gizmo for Integrated Engineering). MAGGIE has been helping the Curiosity team particularly with strategies for driving across challenging terrain and drilling rocks. OPTIMISM and MAGGIE will live side-by-side in the Mars Yard, giving JPL engineers a two-car garage for the first time. \"Missions that are operating require high-fidelity replicas of their systems for testing,\" Stumbo said. \"The Curiosity mission has learned lessons from MAGGIE that were impossible to learn any other way. Now that we have OPTIMISM, the Perseverance mission is well equipped to learn what they need to succeed on Mars.\" The Perseverance rover\\'s astrobiology mission will search for signs of ancient microbial life. It will also characterize the planet\\'s climate and geology, pave the way for human exploration of the Red Planet, and be the first planetary mission to collect and cache Martian rock and regolith (broken rock and dust). Subsequent missions, currently under consideration by NASA in cooperation with the European Space Agency, would send spacecraft to Mars to collect these cached samples from the surface and return them to Earth for in-depth analysis. The Mars 2020 mission is part of a larger program that includes missions to the Moon as a way to prepare for human exploration of the Red Planet. Charged with returning astronauts to the Moon by 2024, NASA will establish a sustained human presence on and around the Moon by 2028 through NASA\\'s Artemis lunar exploration plans. JPL, which is managed for NASA by Caltech in Pasadena, California, built and manages operations of the Perseverance and Curiosity rovers. Learn more about the Mars 2020 mission at: https://www.nasa.gov/perseverance News Media Contacts Jia-Rui Cook / D.C. Agle Jet Propulsion Laboratory, Pasadena, Calif. 818-354-0724 / 818-393-9011 jccook@jpl.nasa.gov / agle@jpl.nasa.gov Alana Johnson / Grey Hautaluoma NASA Headquarters, Washington 202-358-1501 / 202-358-0668 alana.r.johnson@nasa.gov / grey.hautaluoma-1@nasa.gov'"
      ]
     },
     "execution_count": 5,
     "metadata": {},
     "output_type": "execute_result"
    }
   ],
   "source": [
    "# Examine the results, then determine element that contains sought info\n",
    "# results are returned as an iterable list\n",
    "\n",
    "# Put together link to top story\n",
    "link = [a['href'] for a in soup.select(\"a[href*=news]\")][0]\n",
    "base = \"https://mars.nasa.gov/news\"\n",
    "url = urllib.parse.urljoin(base,link)\n",
    "\n",
    "# Fetch headline and text  \n",
    "browser.visit(url)\n",
    "news_title = browser.find_by_tag('h1').value\n",
    "news_p = browser.find_by_id('primary_column').value\n",
    "news_p = news_p.replace('\\n', ' ')\n",
    "#tried a million ways to get rid of remaining \\ (see old notebook), no luck yet\n",
    "#But they are gone in the Chrome versio, thanks to whoever...\n",
    "#story = {'news_title': news_title,'news_p': news_p}\n",
    "\n",
    "# Add title and text to data dictionary \n",
    "mars[\"news_title\"] = news_title\n",
    "mars[\"news_p\"] = news_p\n",
    "  \n",
    "news_title\n",
    "news_p"
   ]
  },
  {
   "cell_type": "markdown",
   "metadata": {},
   "source": [
    "### JPL Mars Space Images - Featured Image"
   ]
  },
  {
   "cell_type": "code",
   "execution_count": 6,
   "metadata": {},
   "outputs": [
    {
     "data": {
      "text/plain": [
       "{'news_title': \"NASA Readies Perseverance Mars Rover's Earthly Twin\",\n",
       " 'news_p': 'Did you know NASA\\'s next Mars rover has a nearly identical sibling on Earth for testing? Even better, it\\'s about to roll for the first time through a replica Martian landscape. As NASA\\'s Mars rover Perseverance hurtles through space toward the Red Planet, the six-wheeler\\'s twin is ready to roll here on Earth. A full-scale engineering version of the Mars 2020 Perseverance rover – outfitted with wheels, cameras, and powerful computers to help it drive autonomously – has just moved into its garage home at NASA\\'s Jet Propulsion Laboratory in Southern California. This rover model passed its first driving test in a relatively tame warehouselike assembly room at JPL on Sept. 1. Engineers expect to take it out next week into the Mars Yard, where a field of red dirt studded with rocks and other obstacles simulates the Red Planet\\'s surface. Download video › \"Perseverance\\'s mobility team can\\'t wait to finally drive our test rover outside,\" said Anais Zarifian, the mobility test bed engineer at JPL. \"This is the test robot that comes closest to simulating the actual mission operations Perseverance will experience on Mars – with wheels, eyes, and brains all together – so this rover is going to be especially fun to work with.\" Wait, Why Does Perseverance Need a Twin? Perseverance isn\\'t flying to Mars with a mechanic. To avoid as many unexpected issues as possible after the rover lands on Feb. 18, 2021, the team needs this Earth-bound vehicle system test bed (VSTB) rover to gauge how hardware and software will perform before they transmit commands up to Perseverance on Mars. This rover model will be particularly useful for completing a full set of software tests so the team can send up patches while Perseverance is en route to Mars or after it has landed. Perseverance Test Rover\\'s First Drive: Engineers test drive the Earth-bound twin of NASA\\'s Perseverance Mars rover for the first time in a warehouselike assembly room at the agency\\'s Jet Propulsion Laboratory in Southern California. Full image and caption › And just like Perseverance has a fitting name – one that captures the hard work of getting the rover on its way to Mars amid a pandemic – its twin has a name, too: OPTIMISM. While OPTIMISM is an acronym for Operational Perseverance Twin for Integration of Mechanisms and Instruments Sent to Mars, the name is also a nod to the mantra of the team that spent two years planning and assembling it. \"The Mars 2020 Perseverance test bed team\\'s motto is \\'No optimism allowed,\\'\" said Matt Stumbo, the lead for the VSTB rover on the test bed team. \"So we named the test rover OPTIMISM to remind us of the work we have to do to fully test the system. Our job is to find problems, not just hope activities will work. As we work through the issues with OPTIMISM, we gain confidence in Perseverance\\'s capabilities and confidence in our ability to operate on Mars.\" Almost Identical OPTIMISM is nearly identical to Perseverance: It is the same size, has the same mobility system and top driving speed (0.094 mph, or 0.15 kph), and features the same distinctive \"head,\" known as the remote sensing mast. After a second phase of building at the beginning of the new year, it will have the full suite of science instruments, cameras, and computer \"brains\" Perseverance has, plus its unique system for collecting rock and soil samples. But since OPTIMISM lives at JPL, it also features some Earthly differences. For one thing, while Perseverance gets its power from a multi-mission radioisotope thermoelectric generator (a kind of nuclear battery that has reliably powered space missions since the 1960s), OPTIMISM features an umbilical cord that can be plugged in for electrical power. That cord also provides an ethernet connection, allowing the mission team to send commands to and receive engineering data back from OPTIMISM without installing the radios Perseverance uses for communication. And whereas Perseverance comes with a heating system to keep it warm in the frigid environment of Mars, OPTIMISM relies on a cooling system for operating in hot Southern California summers. Welcome to the Family OPTIMISM isn\\'t JPL\\'s only VSTB rover. NASA’s Curiosity Mars rover, which has been exploring the Red Planet since it landed in 2012, has a twin named MAGGIE (Mars Automated Giant Gizmo for Integrated Engineering). MAGGIE has been helping the Curiosity team particularly with strategies for driving across challenging terrain and drilling rocks. OPTIMISM and MAGGIE will live side-by-side in the Mars Yard, giving JPL engineers a two-car garage for the first time. \"Missions that are operating require high-fidelity replicas of their systems for testing,\" Stumbo said. \"The Curiosity mission has learned lessons from MAGGIE that were impossible to learn any other way. Now that we have OPTIMISM, the Perseverance mission is well equipped to learn what they need to succeed on Mars.\" The Perseverance rover\\'s astrobiology mission will search for signs of ancient microbial life. It will also characterize the planet\\'s climate and geology, pave the way for human exploration of the Red Planet, and be the first planetary mission to collect and cache Martian rock and regolith (broken rock and dust). Subsequent missions, currently under consideration by NASA in cooperation with the European Space Agency, would send spacecraft to Mars to collect these cached samples from the surface and return them to Earth for in-depth analysis. The Mars 2020 mission is part of a larger program that includes missions to the Moon as a way to prepare for human exploration of the Red Planet. Charged with returning astronauts to the Moon by 2024, NASA will establish a sustained human presence on and around the Moon by 2028 through NASA\\'s Artemis lunar exploration plans. JPL, which is managed for NASA by Caltech in Pasadena, California, built and manages operations of the Perseverance and Curiosity rovers. Learn more about the Mars 2020 mission at: https://www.nasa.gov/perseverance News Media Contacts Jia-Rui Cook / D.C. Agle Jet Propulsion Laboratory, Pasadena, Calif. 818-354-0724 / 818-393-9011 jccook@jpl.nasa.gov / agle@jpl.nasa.gov Alana Johnson / Grey Hautaluoma NASA Headquarters, Washington 202-358-1501 / 202-358-0668 alana.r.johnson@nasa.gov / grey.hautaluoma-1@nasa.gov',\n",
       " 'featured_image_url': 'https://www.jpl.nasa.gov/spaceimages/images/largesize/PIA24088_hires.jpg'}"
      ]
     },
     "execution_count": 6,
     "metadata": {},
     "output_type": "execute_result"
    }
   ],
   "source": [
    "# Thanks to GitHub for the fancybox help, I was really stuck. Didn't realize \"fancybox\" could be a class. \n",
    "#https://github.com/ZL14E161110/HW13---Web-Scraping-and-Document-Databases\n",
    "#Didn't look at the rest of it, although I'm sure it's brilliant. \n",
    "\n",
    "#Assumes the latest Mars image will always be the one in the first position of the grid...\n",
    "#Note 0 is the overall featured image, which is not necessarily of Mars.\n",
    "\n",
    "# Visit site and make soup\n",
    "url = 'https://www.jpl.nasa.gov/spaceimages/?search=&category=Mars'\n",
    "response = requests.get(url)\n",
    "soup = bs(response.text, 'lxml')\n",
    "\n",
    "#Get image \n",
    "partial_address = soup.find_all('a', class_='fancybox')[1].get('data-fancybox-href').strip()\n",
    "base = \"https://www.jpl.nasa.gov\"\n",
    "featured_image_url = urllib.parse.urljoin(base, partial_address)\n",
    "#featured_image_url\n",
    "\n",
    "#Add url to dictionary\n",
    "mars[\"featured_image_url\"] = featured_image_url\n",
    "\n",
    "mars"
   ]
  },
  {
   "cell_type": "markdown",
   "metadata": {},
   "source": [
    "### Mars Facts"
   ]
  },
  {
   "cell_type": "code",
   "execution_count": 79,
   "metadata": {},
   "outputs": [],
   "source": [
    "url = 'https://space-facts.com/mars/'"
   ]
  },
  {
   "cell_type": "code",
   "execution_count": 80,
   "metadata": {},
   "outputs": [
    {
     "data": {
      "text/plain": [
       "list"
      ]
     },
     "execution_count": 80,
     "metadata": {},
     "output_type": "execute_result"
    }
   ],
   "source": [
    "tables = pd.read_html(url)\n",
    "#tables = pd.read_html(url, header=None, index_col=0)\n",
    "type(tables)"
   ]
  },
  {
   "cell_type": "code",
   "execution_count": 81,
   "metadata": {},
   "outputs": [
    {
     "data": {
      "text/html": [
       "<div>\n",
       "<style scoped>\n",
       "    .dataframe tbody tr th:only-of-type {\n",
       "        vertical-align: middle;\n",
       "    }\n",
       "\n",
       "    .dataframe tbody tr th {\n",
       "        vertical-align: top;\n",
       "    }\n",
       "\n",
       "    .dataframe thead th {\n",
       "        text-align: right;\n",
       "    }\n",
       "</style>\n",
       "<table border=\"1\" class=\"dataframe\">\n",
       "  <thead>\n",
       "    <tr style=\"text-align: right;\">\n",
       "      <th></th>\n",
       "      <th>0</th>\n",
       "      <th>1</th>\n",
       "    </tr>\n",
       "  </thead>\n",
       "  <tbody>\n",
       "    <tr>\n",
       "      <th>0</th>\n",
       "      <td>Equatorial Diameter:</td>\n",
       "      <td>6,792 km</td>\n",
       "    </tr>\n",
       "    <tr>\n",
       "      <th>1</th>\n",
       "      <td>Polar Diameter:</td>\n",
       "      <td>6,752 km</td>\n",
       "    </tr>\n",
       "    <tr>\n",
       "      <th>2</th>\n",
       "      <td>Mass:</td>\n",
       "      <td>6.39 × 10^23 kg (0.11 Earths)</td>\n",
       "    </tr>\n",
       "    <tr>\n",
       "      <th>3</th>\n",
       "      <td>Moons:</td>\n",
       "      <td>2 (Phobos &amp; Deimos)</td>\n",
       "    </tr>\n",
       "    <tr>\n",
       "      <th>4</th>\n",
       "      <td>Orbit Distance:</td>\n",
       "      <td>227,943,824 km (1.38 AU)</td>\n",
       "    </tr>\n",
       "    <tr>\n",
       "      <th>5</th>\n",
       "      <td>Orbit Period:</td>\n",
       "      <td>687 days (1.9 years)</td>\n",
       "    </tr>\n",
       "    <tr>\n",
       "      <th>6</th>\n",
       "      <td>Surface Temperature:</td>\n",
       "      <td>-87 to -5 °C</td>\n",
       "    </tr>\n",
       "    <tr>\n",
       "      <th>7</th>\n",
       "      <td>First Record:</td>\n",
       "      <td>2nd millennium BC</td>\n",
       "    </tr>\n",
       "    <tr>\n",
       "      <th>8</th>\n",
       "      <td>Recorded By:</td>\n",
       "      <td>Egyptian astronomers</td>\n",
       "    </tr>\n",
       "  </tbody>\n",
       "</table>\n",
       "</div>"
      ],
      "text/plain": [
       "                      0                              1\n",
       "0  Equatorial Diameter:                       6,792 km\n",
       "1       Polar Diameter:                       6,752 km\n",
       "2                 Mass:  6.39 × 10^23 kg (0.11 Earths)\n",
       "3                Moons:            2 (Phobos & Deimos)\n",
       "4       Orbit Distance:       227,943,824 km (1.38 AU)\n",
       "5         Orbit Period:           687 days (1.9 years)\n",
       "6  Surface Temperature:                   -87 to -5 °C\n",
       "7         First Record:              2nd millennium BC\n",
       "8          Recorded By:           Egyptian astronomers"
      ]
     },
     "execution_count": 81,
     "metadata": {},
     "output_type": "execute_result"
    }
   ],
   "source": [
    "mars_facts_df = tables[0]\n",
    "mars_facts_df"
   ]
  },
  {
   "cell_type": "code",
   "execution_count": 82,
   "metadata": {},
   "outputs": [
    {
     "data": {
      "text/plain": [
       "'<table border=\"False\" class=\"dataframe\">  <tbody>    <tr>      <td>Equatorial Diameter:</td>      <td>6,792 km</td>    </tr>    <tr>      <td>Polar Diameter:</td>      <td>6,752 km</td>    </tr>    <tr>      <td>Mass:</td>      <td>6.39 × 10^23 kg (0.11 Earths)</td>    </tr>    <tr>      <td>Moons:</td>      <td>2 (Phobos &amp; Deimos)</td>    </tr>    <tr>      <td>Orbit Distance:</td>      <td>227,943,824 km (1.38 AU)</td>    </tr>    <tr>      <td>Orbit Period:</td>      <td>687 days (1.9 years)</td>    </tr>    <tr>      <td>Surface Temperature:</td>      <td>-87 to -5 °C</td>    </tr>    <tr>      <td>First Record:</td>      <td>2nd millennium BC</td>    </tr>    <tr>      <td>Recorded By:</td>      <td>Egyptian astronomers</td>    </tr>  </tbody></table>'"
      ]
     },
     "execution_count": 82,
     "metadata": {},
     "output_type": "execute_result"
    }
   ],
   "source": [
    "mars_facts_html_table = mars_facts_df.to_html(header=False, border=False, index=False)\n",
    "mars_facts_html_table = mars_facts_html_table.replace('\\n', '')\n",
    "mars_facts_html_table\n",
    "#print(mars_facts_html_table)"
   ]
  },
  {
   "cell_type": "code",
   "execution_count": 14,
   "metadata": {},
   "outputs": [
    {
     "data": {
      "text/plain": [
       "{'news_title': \"NASA Readies Perseverance Mars Rover's Earthly Twin\",\n",
       " 'news_p': 'Did you know NASA\\'s next Mars rover has a nearly identical sibling on Earth for testing? Even better, it\\'s about to roll for the first time through a replica Martian landscape. As NASA\\'s Mars rover Perseverance hurtles through space toward the Red Planet, the six-wheeler\\'s twin is ready to roll here on Earth. A full-scale engineering version of the Mars 2020 Perseverance rover – outfitted with wheels, cameras, and powerful computers to help it drive autonomously – has just moved into its garage home at NASA\\'s Jet Propulsion Laboratory in Southern California. This rover model passed its first driving test in a relatively tame warehouselike assembly room at JPL on Sept. 1. Engineers expect to take it out next week into the Mars Yard, where a field of red dirt studded with rocks and other obstacles simulates the Red Planet\\'s surface. Download video › \"Perseverance\\'s mobility team can\\'t wait to finally drive our test rover outside,\" said Anais Zarifian, the mobility test bed engineer at JPL. \"This is the test robot that comes closest to simulating the actual mission operations Perseverance will experience on Mars – with wheels, eyes, and brains all together – so this rover is going to be especially fun to work with.\" Wait, Why Does Perseverance Need a Twin? Perseverance isn\\'t flying to Mars with a mechanic. To avoid as many unexpected issues as possible after the rover lands on Feb. 18, 2021, the team needs this Earth-bound vehicle system test bed (VSTB) rover to gauge how hardware and software will perform before they transmit commands up to Perseverance on Mars. This rover model will be particularly useful for completing a full set of software tests so the team can send up patches while Perseverance is en route to Mars or after it has landed. Perseverance Test Rover\\'s First Drive: Engineers test drive the Earth-bound twin of NASA\\'s Perseverance Mars rover for the first time in a warehouselike assembly room at the agency\\'s Jet Propulsion Laboratory in Southern California. Full image and caption › And just like Perseverance has a fitting name – one that captures the hard work of getting the rover on its way to Mars amid a pandemic – its twin has a name, too: OPTIMISM. While OPTIMISM is an acronym for Operational Perseverance Twin for Integration of Mechanisms and Instruments Sent to Mars, the name is also a nod to the mantra of the team that spent two years planning and assembling it. \"The Mars 2020 Perseverance test bed team\\'s motto is \\'No optimism allowed,\\'\" said Matt Stumbo, the lead for the VSTB rover on the test bed team. \"So we named the test rover OPTIMISM to remind us of the work we have to do to fully test the system. Our job is to find problems, not just hope activities will work. As we work through the issues with OPTIMISM, we gain confidence in Perseverance\\'s capabilities and confidence in our ability to operate on Mars.\" Almost Identical OPTIMISM is nearly identical to Perseverance: It is the same size, has the same mobility system and top driving speed (0.094 mph, or 0.15 kph), and features the same distinctive \"head,\" known as the remote sensing mast. After a second phase of building at the beginning of the new year, it will have the full suite of science instruments, cameras, and computer \"brains\" Perseverance has, plus its unique system for collecting rock and soil samples. But since OPTIMISM lives at JPL, it also features some Earthly differences. For one thing, while Perseverance gets its power from a multi-mission radioisotope thermoelectric generator (a kind of nuclear battery that has reliably powered space missions since the 1960s), OPTIMISM features an umbilical cord that can be plugged in for electrical power. That cord also provides an ethernet connection, allowing the mission team to send commands to and receive engineering data back from OPTIMISM without installing the radios Perseverance uses for communication. And whereas Perseverance comes with a heating system to keep it warm in the frigid environment of Mars, OPTIMISM relies on a cooling system for operating in hot Southern California summers. Welcome to the Family OPTIMISM isn\\'t JPL\\'s only VSTB rover. NASA’s Curiosity Mars rover, which has been exploring the Red Planet since it landed in 2012, has a twin named MAGGIE (Mars Automated Giant Gizmo for Integrated Engineering). MAGGIE has been helping the Curiosity team particularly with strategies for driving across challenging terrain and drilling rocks. OPTIMISM and MAGGIE will live side-by-side in the Mars Yard, giving JPL engineers a two-car garage for the first time. \"Missions that are operating require high-fidelity replicas of their systems for testing,\" Stumbo said. \"The Curiosity mission has learned lessons from MAGGIE that were impossible to learn any other way. Now that we have OPTIMISM, the Perseverance mission is well equipped to learn what they need to succeed on Mars.\" The Perseverance rover\\'s astrobiology mission will search for signs of ancient microbial life. It will also characterize the planet\\'s climate and geology, pave the way for human exploration of the Red Planet, and be the first planetary mission to collect and cache Martian rock and regolith (broken rock and dust). Subsequent missions, currently under consideration by NASA in cooperation with the European Space Agency, would send spacecraft to Mars to collect these cached samples from the surface and return them to Earth for in-depth analysis. The Mars 2020 mission is part of a larger program that includes missions to the Moon as a way to prepare for human exploration of the Red Planet. Charged with returning astronauts to the Moon by 2024, NASA will establish a sustained human presence on and around the Moon by 2028 through NASA\\'s Artemis lunar exploration plans. JPL, which is managed for NASA by Caltech in Pasadena, California, built and manages operations of the Perseverance and Curiosity rovers. Learn more about the Mars 2020 mission at: https://www.nasa.gov/perseverance News Media Contacts Jia-Rui Cook / D.C. Agle Jet Propulsion Laboratory, Pasadena, Calif. 818-354-0724 / 818-393-9011 jccook@jpl.nasa.gov / agle@jpl.nasa.gov Alana Johnson / Grey Hautaluoma NASA Headquarters, Washington 202-358-1501 / 202-358-0668 alana.r.johnson@nasa.gov / grey.hautaluoma-1@nasa.gov',\n",
       " 'featured_image_url': 'https://www.jpl.nasa.gov/spaceimages/images/largesize/PIA24088_hires.jpg',\n",
       " 'table': '<table border=\"1\" class=\"dataframe\">  <thead>    <tr style=\"text-align: right;\">      <th></th>      <th>1</th>    </tr>    <tr>      <th>0</th>      <th></th>    </tr>  </thead>  <tbody>    <tr>      <th>Equatorial Diameter:</th>      <td>6,792 km</td>    </tr>    <tr>      <th>Polar Diameter:</th>      <td>6,752 km</td>    </tr>    <tr>      <th>Mass:</th>      <td>6.39 × 10^23 kg (0.11 Earths)</td>    </tr>    <tr>      <th>Moons:</th>      <td>2 (Phobos &amp; Deimos)</td>    </tr>    <tr>      <th>Orbit Distance:</th>      <td>227,943,824 km (1.38 AU)</td>    </tr>    <tr>      <th>Orbit Period:</th>      <td>687 days (1.9 years)</td>    </tr>    <tr>      <th>Surface Temperature:</th>      <td>-87 to -5 °C</td>    </tr>    <tr>      <th>First Record:</th>      <td>2nd millennium BC</td>    </tr>    <tr>      <th>Recorded By:</th>      <td>Egyptian astronomers</td>    </tr>  </tbody></table>'}"
      ]
     },
     "execution_count": 14,
     "metadata": {},
     "output_type": "execute_result"
    }
   ],
   "source": [
    "#Add table to dictionary\n",
    "mars[\"table\"] = mars_facts_html_table\n",
    "mars"
   ]
  },
  {
   "cell_type": "markdown",
   "metadata": {},
   "source": [
    "### Mars Hemispheres"
   ]
  },
  {
   "cell_type": "code",
   "execution_count": 15,
   "metadata": {},
   "outputs": [],
   "source": [
    "#navigate to starting page\n",
    "browser=init_browser()\n",
    "url = \"https://astrogeology.usgs.gov/search/results?q=hemisphere+enhanced&k1=target&v1=Mars\"\n",
    "browser.visit(url)"
   ]
  },
  {
   "cell_type": "code",
   "execution_count": 16,
   "metadata": {},
   "outputs": [],
   "source": [
    "#Make soup\n",
    "# Retrieve page with the requests module\n",
    "response = requests.get(url)\n",
    "\n",
    "# Create BeautifulSoup object; parse with 'lxml'\n",
    "soup = bs(response.text, 'lxml')\n",
    "#print(soup.prettify)"
   ]
  },
  {
   "cell_type": "code",
   "execution_count": 17,
   "metadata": {},
   "outputs": [
    {
     "data": {
      "text/plain": [
       "{'news_title': \"NASA Readies Perseverance Mars Rover's Earthly Twin\",\n",
       " 'news_p': 'Did you know NASA\\'s next Mars rover has a nearly identical sibling on Earth for testing? Even better, it\\'s about to roll for the first time through a replica Martian landscape. As NASA\\'s Mars rover Perseverance hurtles through space toward the Red Planet, the six-wheeler\\'s twin is ready to roll here on Earth. A full-scale engineering version of the Mars 2020 Perseverance rover – outfitted with wheels, cameras, and powerful computers to help it drive autonomously – has just moved into its garage home at NASA\\'s Jet Propulsion Laboratory in Southern California. This rover model passed its first driving test in a relatively tame warehouselike assembly room at JPL on Sept. 1. Engineers expect to take it out next week into the Mars Yard, where a field of red dirt studded with rocks and other obstacles simulates the Red Planet\\'s surface. Download video › \"Perseverance\\'s mobility team can\\'t wait to finally drive our test rover outside,\" said Anais Zarifian, the mobility test bed engineer at JPL. \"This is the test robot that comes closest to simulating the actual mission operations Perseverance will experience on Mars – with wheels, eyes, and brains all together – so this rover is going to be especially fun to work with.\" Wait, Why Does Perseverance Need a Twin? Perseverance isn\\'t flying to Mars with a mechanic. To avoid as many unexpected issues as possible after the rover lands on Feb. 18, 2021, the team needs this Earth-bound vehicle system test bed (VSTB) rover to gauge how hardware and software will perform before they transmit commands up to Perseverance on Mars. This rover model will be particularly useful for completing a full set of software tests so the team can send up patches while Perseverance is en route to Mars or after it has landed. Perseverance Test Rover\\'s First Drive: Engineers test drive the Earth-bound twin of NASA\\'s Perseverance Mars rover for the first time in a warehouselike assembly room at the agency\\'s Jet Propulsion Laboratory in Southern California. Full image and caption › And just like Perseverance has a fitting name – one that captures the hard work of getting the rover on its way to Mars amid a pandemic – its twin has a name, too: OPTIMISM. While OPTIMISM is an acronym for Operational Perseverance Twin for Integration of Mechanisms and Instruments Sent to Mars, the name is also a nod to the mantra of the team that spent two years planning and assembling it. \"The Mars 2020 Perseverance test bed team\\'s motto is \\'No optimism allowed,\\'\" said Matt Stumbo, the lead for the VSTB rover on the test bed team. \"So we named the test rover OPTIMISM to remind us of the work we have to do to fully test the system. Our job is to find problems, not just hope activities will work. As we work through the issues with OPTIMISM, we gain confidence in Perseverance\\'s capabilities and confidence in our ability to operate on Mars.\" Almost Identical OPTIMISM is nearly identical to Perseverance: It is the same size, has the same mobility system and top driving speed (0.094 mph, or 0.15 kph), and features the same distinctive \"head,\" known as the remote sensing mast. After a second phase of building at the beginning of the new year, it will have the full suite of science instruments, cameras, and computer \"brains\" Perseverance has, plus its unique system for collecting rock and soil samples. But since OPTIMISM lives at JPL, it also features some Earthly differences. For one thing, while Perseverance gets its power from a multi-mission radioisotope thermoelectric generator (a kind of nuclear battery that has reliably powered space missions since the 1960s), OPTIMISM features an umbilical cord that can be plugged in for electrical power. That cord also provides an ethernet connection, allowing the mission team to send commands to and receive engineering data back from OPTIMISM without installing the radios Perseverance uses for communication. And whereas Perseverance comes with a heating system to keep it warm in the frigid environment of Mars, OPTIMISM relies on a cooling system for operating in hot Southern California summers. Welcome to the Family OPTIMISM isn\\'t JPL\\'s only VSTB rover. NASA’s Curiosity Mars rover, which has been exploring the Red Planet since it landed in 2012, has a twin named MAGGIE (Mars Automated Giant Gizmo for Integrated Engineering). MAGGIE has been helping the Curiosity team particularly with strategies for driving across challenging terrain and drilling rocks. OPTIMISM and MAGGIE will live side-by-side in the Mars Yard, giving JPL engineers a two-car garage for the first time. \"Missions that are operating require high-fidelity replicas of their systems for testing,\" Stumbo said. \"The Curiosity mission has learned lessons from MAGGIE that were impossible to learn any other way. Now that we have OPTIMISM, the Perseverance mission is well equipped to learn what they need to succeed on Mars.\" The Perseverance rover\\'s astrobiology mission will search for signs of ancient microbial life. It will also characterize the planet\\'s climate and geology, pave the way for human exploration of the Red Planet, and be the first planetary mission to collect and cache Martian rock and regolith (broken rock and dust). Subsequent missions, currently under consideration by NASA in cooperation with the European Space Agency, would send spacecraft to Mars to collect these cached samples from the surface and return them to Earth for in-depth analysis. The Mars 2020 mission is part of a larger program that includes missions to the Moon as a way to prepare for human exploration of the Red Planet. Charged with returning astronauts to the Moon by 2024, NASA will establish a sustained human presence on and around the Moon by 2028 through NASA\\'s Artemis lunar exploration plans. JPL, which is managed for NASA by Caltech in Pasadena, California, built and manages operations of the Perseverance and Curiosity rovers. Learn more about the Mars 2020 mission at: https://www.nasa.gov/perseverance News Media Contacts Jia-Rui Cook / D.C. Agle Jet Propulsion Laboratory, Pasadena, Calif. 818-354-0724 / 818-393-9011 jccook@jpl.nasa.gov / agle@jpl.nasa.gov Alana Johnson / Grey Hautaluoma NASA Headquarters, Washington 202-358-1501 / 202-358-0668 alana.r.johnson@nasa.gov / grey.hautaluoma-1@nasa.gov',\n",
       " 'featured_image_url': 'https://www.jpl.nasa.gov/spaceimages/images/largesize/PIA24088_hires.jpg',\n",
       " 'table': '<table border=\"1\" class=\"dataframe\">  <thead>    <tr style=\"text-align: right;\">      <th></th>      <th>1</th>    </tr>    <tr>      <th>0</th>      <th></th>    </tr>  </thead>  <tbody>    <tr>      <th>Equatorial Diameter:</th>      <td>6,792 km</td>    </tr>    <tr>      <th>Polar Diameter:</th>      <td>6,752 km</td>    </tr>    <tr>      <th>Mass:</th>      <td>6.39 × 10^23 kg (0.11 Earths)</td>    </tr>    <tr>      <th>Moons:</th>      <td>2 (Phobos &amp; Deimos)</td>    </tr>    <tr>      <th>Orbit Distance:</th>      <td>227,943,824 km (1.38 AU)</td>    </tr>    <tr>      <th>Orbit Period:</th>      <td>687 days (1.9 years)</td>    </tr>    <tr>      <th>Surface Temperature:</th>      <td>-87 to -5 °C</td>    </tr>    <tr>      <th>First Record:</th>      <td>2nd millennium BC</td>    </tr>    <tr>      <th>Recorded By:</th>      <td>Egyptian astronomers</td>    </tr>  </tbody></table>',\n",
       " 'hemisphere_image_urls': [{'title': 'Cerberus Hemisphere Enhanced',\n",
       "   'img_url': 'https://astropedia.astrogeology.usgs.gov/download/Mars/Viking/cerberus_enhanced.tif'},\n",
       "  {'title': 'Schiaparelli Hemisphere Enhanced',\n",
       "   'img_url': 'https://astropedia.astrogeology.usgs.gov/download/Mars/Viking/schiaparelli_enhanced.tif'},\n",
       "  {'title': 'Syrtis Major Hemisphere Enhanced',\n",
       "   'img_url': 'https://astropedia.astrogeology.usgs.gov/download/Mars/Viking/syrtis_major_enhanced.tif'},\n",
       "  {'title': 'Valles Marineris Hemisphere Enhanced',\n",
       "   'img_url': 'https://astropedia.astrogeology.usgs.gov/download/Mars/Viking/valles_marineris_enhanced.tif'}]}"
      ]
     },
     "execution_count": 17,
     "metadata": {},
     "output_type": "execute_result"
    }
   ],
   "source": [
    "#Find titles and links for full-scale images\n",
    "\n",
    "#title_list = []\n",
    "#img_url_list = []\n",
    "base = \"https://astrogeology.usgs.gov\"\n",
    "hemisphere_image_urls = []\n",
    "\n",
    "\n",
    "for link in soup.find_all(class_='itemLink product-item'):\n",
    "    partial = link.get('href')    \n",
    "    thumbnail_url = urllib.parse.urljoin(base, partial)\n",
    "    browser.visit(thumbnail_url)\n",
    "    xpath = \"//a[@class='open-toggle']\"\n",
    "    switch = browser.find_by_xpath(xpath)\n",
    "    switch.click()\n",
    "    html = browser.html\n",
    "    soup = bs(html, 'lxml')\n",
    "    imgs = soup.find(class_='downloads')\n",
    "    html = browser.html\n",
    "    soup = bs(html, 'lxml')\n",
    "    title = soup.find(class_ = 'title').get_text()\n",
    "    img_url = [a['href'] for a in soup.select('a:contains(Original)')]\n",
    "    img_url = str(*img_url)\n",
    "    hemisphere_image_urls.append({'title':title, 'img_url':img_url})\n",
    "browser.quit()\n",
    "#hemisphere_image_urls\n",
    "\n",
    "mars[\"hemisphere_image_urls\"] = hemisphere_image_urls\n",
    "mars\n",
    "\n",
    "#print(image_url_list)\n",
    "\n",
    "\n",
    "#    title_list.append(title)\n",
    "#    image_url_list = img_url_list.append(*img_url)\n",
    "#    title_list\n",
    "#    print(title, *img_url)"
   ]
  },
  {
   "cell_type": "markdown",
   "metadata": {},
   "source": [
    "## Step 2 - MongoDB and Flask Application\n",
    "\n",
    "Use MongoDB with Flask templating to create a new HTML page that displays all of the information that was scraped from the URLs above.\n",
    "\n",
    "* Start by converting your Jupyter notebook into a Python script called `scrape_mars.py` with a function called `scrape` that will execute all of your scraping code from above and return one Python dictionary containing all of the scraped data.\n",
    "\n",
    "* Next, create a route called `/scrape` that will call your `scrape_mars.scrape` function. Note that you'll have to import `scrape_mars.py`. \n",
    "\n",
    "  * Store the dictionary that gets returned to your MongoDB.\n",
    "\n",
    "* Create an index route `/` that will query your Mongo database and pass the Mars data into an HTML template to be displayed. \n",
    "\n",
    "* Create a template HTML file called `index.html` that will take the dictionary of Mars data and display its values in the appropriate HTML elements. Use the following as a guide for what the final product should look like, but feel free to create your own design.\n",
    "\n",
    "![final_app_part1.png](Images/final_app_part1.png)\n",
    "![final_app_part2.png](Images/final_app_part2.png)"
   ]
  },
  {
   "cell_type": "code",
   "execution_count": null,
   "metadata": {},
   "outputs": [],
   "source": []
  }
 ],
 "metadata": {
  "kernelspec": {
   "display_name": "Python 3",
   "language": "python",
   "name": "python3"
  },
  "language_info": {
   "codemirror_mode": {
    "name": "ipython",
    "version": 3
   },
   "file_extension": ".py",
   "mimetype": "text/x-python",
   "name": "python",
   "nbconvert_exporter": "python",
   "pygments_lexer": "ipython3",
   "version": "3.6.10"
  }
 },
 "nbformat": 4,
 "nbformat_minor": 4
}
